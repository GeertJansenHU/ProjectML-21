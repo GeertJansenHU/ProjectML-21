{
 "cells": [
  {
   "cell_type": "code",
   "execution_count": 1,
   "metadata": {},
   "outputs": [],
   "source": [
    "import seaborn as sns\n",
    "import matplotlib.pyplot as plt\n",
    "import numpy as np\n",
    "import pandas as pd\n",
    "#from utils import plot_contour, gridsearch_heatmap, compare_results\n",
    "plt.rcParams['figure.figsize'] = [10, 10]\n",
    "import matplotlib.pyplot as plt\n",
    "import seaborn as sns\n",
    "from sklearn.preprocessing import PolynomialFeatures\n",
    "from sklearn.model_selection import train_test_split\n",
    "from sklearn.preprocessing import StandardScaler\n",
    "from sklearn.pipeline import Pipeline\n",
    "from sklearn.model_selection import GridSearchCV\n",
    "from sklearn.preprocessing import OneHotEncoder\n",
    "import pandas as pd\n",
    "import datetime as dt\n",
    "from pathlib import Path\n",
    "import sys\n",
    "sys.path.insert(0, \"..\") \n",
    "\n",
    "from src.visualization import visualize\n",
    "from sklearn.metrics import confusion_matrix, f1_score, precision_recall_curve, roc_curve"
   ]
  },
  {
   "cell_type": "markdown",
   "metadata": {},
   "source": [
    "<font size=\"10\">Doorlooptijd facturen Moore DRV</font>"
   ]
  },
  {
   "cell_type": "markdown",
   "metadata": {},
   "source": [
    "<font size=\"8\">Project benadering</font>\n",
    "\n",
    "Dit project is erop gericht om voor Moore DRV middels machine learning te kunnen voorspellen of een factuur binnen de betaal termijn van de factuur betaald wordt. Het project houdt in grote lijnen de structuur van de CRISP-DM methodiek aan welke is ontworpen voor Data Science vraagstukken. Hieronder is de CRISP-DM methodiek gevisualiseerd.\n",
    "\n",
    "<img src=https://www.researchgate.net/profile/Vernon-Dsouza/publication/326235288/figure/fig1/AS:645518493495296@1530915010595/CRISP-DM-Model-Taylor-2017.png height=\"400\">"
   ]
  },
  {
   "cell_type": "markdown",
   "metadata": {},
   "source": [
    "<font size=\"8\">1. Business understanding</font>\n",
    "\n",
    "<font size=\"6\">1.1 Context Moore DRV</font>\n",
    "\n",
    "Moore DRV is een accountantskantoor met twaalf vestigingen verspreid in de regio Zuidwest-Nederland. Als accountantskantoor biedt het bedrijf een breed scala aan diensten voor haar klanten. Hierbij kan gedacht worden aan ondersteuning bij boekhoudkundige vragen, advies over fiscale zaken, het opmaken en/of het controleren van jaarrekeningen.\n",
    "\n",
    "DRV is in veel opzichten een groeiende organisatie. Uit de jaarcijfers van 2019 blijkt dat de laatste vijf jaren niet alleen de omzet is toegenomen, maar ook het aantal FTE. De omzet bedroeg in 2019 bijna 60 miljoen, wat werd gerealiseerd door 600 medewerkers. Ter vergelijking: in 2015 was de omzet 40 miljoen en bedroeg het aantal medewerkers 358. De slogan van DRV luidt “Stilletjes een van de beste kantoren van Nederland”. Kwaliteit en clienttevredenheid zijn de kernwaarden van DRV en staan hoog in het vaandel. \n",
    "\n",
    "<font size=\"6\">1.2 Bedrijfsdoel Moore DRV</font>\n",
    "\n",
    "Met 12.000 particulieren en 12.000 zakelijke klanten bediend Moore DRV een groot aantal klanten. Deze klanten ontvangen op regelmatige basis facturen vanuit Moore DRV waarin het voltooide werk in rekening wordt gebracht. Op de Financiële afdeling van Moore DRV leeft het gevoel dat een aannemelijk deel van de facturen niet binnen de betaaltermijn betaald wordt. De doelstelling van Moore DRV voor dit project is dan ook om inzicht te krijgen in de factuurdata en om te kunnen voorspellen welke facturen wel of niet binnen de betaaltermijn kunnen worden betaald. \n",
    "\n",
    "De Data science doelstelling is uiteraard om zo nauwkeurig mogelijk te kunnen voorspellen of een factuur wel of niet op tijd betaald wordt binnen de betaal termijn. \n",
    "\n",
    "<font size=\"6\">1.3 Aannames en beperkingen</font>\n",
    "\n",
    "De opgehaalde klantdata is actueel terwijl de facturen enige historie bevat. Hierdoor zou het zo kunnen zijn dat de klant op het moment van facturen in een andere sector of klantgroep zat als er getoond word.  \n",
    "\n",
    "\n"
   ]
  },
  {
   "cell_type": "markdown",
   "metadata": {},
   "source": [
    "<font size=\"10\">2. Data Understanding</font>\n",
    "\n",
    "<font size=\"6\">2.1 Data verzameling</font>\n",
    "\n",
    "Moore DRV heeft met betrekking tot het doel van dit project een dataset ter beschikking gesteld aan Geert Jansen, de student aan de Hogeschool Utrecht en tevens Data Analist bij DRV.\n",
    "De dataset is afkomstig uit het datawarehouse van Moore DRV en is daar middels een SQL statement opgehaald. De data in het warehouse is afkomst uit Navision het ERP pakket van Moore DRV. \n",
    "\n",
    "In het SQL statement worden verschillende gegevens uit de facturatie tabel en de klant tabel opgehaald. De klant en facturatie worden gekoppeld door de een koppeling te maken op klantnummer. In het SQL statement worden al verschillend keuzes gemaakt om de data te selecteren, namelijk:\n",
    "-\tEr worden enkel facturen meegenomen vanaf 2019, deze keuze is gemaakt om geen gedateerde data mee te nemen en de dataset niet te groot te laten worden.\n",
    "-\tDe factuur moet betaald zijn, wanneer dit niet het geval is kan er uiteraard niet worden bepaald of de factuur wel of niet op tijd betaald is.\n",
    "-\tMemoriaalboekingen en bankboekingen worden niet meegenomen de dataset, dit zijn administratieve boekingen en vervuilen daarmee de dataset.\n",
    "\n"
   ]
  },
  {
   "cell_type": "markdown",
   "metadata": {},
   "source": [
    "<font size=\"6\">2.2 Data beschrijving</font>"
   ]
  },
  {
   "cell_type": "markdown",
   "metadata": {},
   "source": [
    "In onderstaande code wordt de date ingeladen welke is opgaald is middels het SQL statement en in CSV formaat is opgeslagen. Voordat de data getoond wordt zullen de komen Welke Datum's betatten eerst in het juiste formaat worden gezet. Vervolgens worden de kolommen getoond deze zijn in te delen in 3 soorten. \n",
    "1. Informatie kolommen, deze zullen niets toevoegen aan het model maar zijn wel belangrijk om inzicht in de data te krijgen in dit hoofdstuk. \n",
    "Factuurnummer, Payment Terms, Global Dimension 1 code, Global Dimension 2 code, Factuurdatum, Velrloopdatum, Sluitdatum, Betaaltermijn en DagenOpen\n",
    "2. Features, Dit zijn de kolommen welke als featrues zullen worden gebruikt om de voorspelling op te baseren.\n",
    "Contact Type, Cusomer Posting Group, SBI Sector, Elec. factureren, GenormaliseerdBedrag, MaandFactuur,\n",
    "3. Target, Dit is de kolom OptijdBetaald en dit is de te voorspellen waarden.\n",
    "\n",
    "Een aantal kolommen zijn niet duidelijk, deze zullen hieronder verder toegelicht woren:\n",
    "- Contact Type > Deze kolom geeft aan of het een particulieren of zakelijke klant betreft.\n",
    "- Customer Posting Group > Deze kolom geeft aan wat voor soort klant het betreft, dit zal vaak deb ofwel debiteur zijn.\n",
    "- Global Dimension 1 Code > Aan welke bedrijf ofwel onderdeel van Moore DRV is de klant gekoppeld.\n",
    "- Global Dimension 2 code > Aan welke vestiging van het bedrijf van DRV is de klant gekoppeld.\n",
    "- SBI Sector > SBI staat voor Standaard Bedrijfsindeling en is er voor gemaakt om bedrijven te kunnen verdelen in verschillende sectoren.\n",
    "- Elec. factrureren > Dit geeft aan of de klant wel of niet electronisch de facturen wil ontvangen, dit kan van invloed zijn op de betaal termijn.\n",
    "- GenormalisseerdBerdag > Deze kolom geeft de hoogte van het factuur bedrag aan, deze waarde is al genormaliseerd in de brondata."
   ]
  },
  {
   "cell_type": "code",
   "execution_count": 2,
   "metadata": {},
   "outputs": [],
   "source": [
    "datafolder = Path(\"../data/raw\")\n",
    "data = pd.read_csv(datafolder / \"Data csv - 17-1-2022.csv\")\n",
    "\n",
    "data['Factuurdatum'] = pd.TimedeltaIndex(data['Factuurdatum'], unit='d') + dt.datetime(1899,12,30) \n",
    "data['Verloopdatum'] = pd.TimedeltaIndex(data['Verloopdatum'], unit='d')+ dt.datetime(1899,12,30) \n",
    "data['Sluitdatum'] = pd.TimedeltaIndex(data['Sluitdatum'], unit='d') + dt.datetime(1899,12,30) "
   ]
  },
  {
   "cell_type": "code",
   "execution_count": 3,
   "metadata": {},
   "outputs": [
    {
     "name": "stdout",
     "output_type": "stream",
     "text": [
      "<class 'pandas.core.frame.DataFrame'>\n",
      "RangeIndex: 116478 entries, 0 to 116477\n",
      "Data columns (total 16 columns):\n",
      " #   Column                   Non-Null Count   Dtype         \n",
      "---  ------                   --------------   -----         \n",
      " 0   Factuurnummer            116478 non-null  object        \n",
      " 1   Global Dimension 2 Code  116478 non-null  object        \n",
      " 2   Contact Type             116478 non-null  int64         \n",
      " 3   Payment Terms Code       116478 non-null  object        \n",
      " 4   Customer Posting Group   116478 non-null  object        \n",
      " 5   Global Dimension 1 Code  116478 non-null  object        \n",
      " 6   Factuurdatum             116478 non-null  datetime64[ns]\n",
      " 7   SBI Sector               105110 non-null  object        \n",
      " 8   elec. factureren         116478 non-null  int64         \n",
      " 9   Maand                    116478 non-null  int64         \n",
      " 10  GenormalisserdBedrag     116478 non-null  float64       \n",
      " 11  Verloopdatum             116478 non-null  datetime64[ns]\n",
      " 12  Sluitdatum               116478 non-null  datetime64[ns]\n",
      " 13  Betaaltermijn            116478 non-null  int64         \n",
      " 14  DagenOpen                116478 non-null  int64         \n",
      " 15  OptijdBetaald            116478 non-null  int64         \n",
      "dtypes: datetime64[ns](3), float64(1), int64(6), object(6)\n",
      "memory usage: 14.2+ MB\n"
     ]
    }
   ],
   "source": [
    "data.info()"
   ]
  },
  {
   "cell_type": "code",
   "execution_count": 4,
   "metadata": {},
   "outputs": [
    {
     "data": {
      "text/html": [
       "<div>\n",
       "<style scoped>\n",
       "    .dataframe tbody tr th:only-of-type {\n",
       "        vertical-align: middle;\n",
       "    }\n",
       "\n",
       "    .dataframe tbody tr th {\n",
       "        vertical-align: top;\n",
       "    }\n",
       "\n",
       "    .dataframe thead th {\n",
       "        text-align: right;\n",
       "    }\n",
       "</style>\n",
       "<table border=\"1\" class=\"dataframe\">\n",
       "  <thead>\n",
       "    <tr style=\"text-align: right;\">\n",
       "      <th></th>\n",
       "      <th>Factuurnummer</th>\n",
       "      <th>Global Dimension 2 Code</th>\n",
       "      <th>Contact Type</th>\n",
       "      <th>Payment Terms Code</th>\n",
       "      <th>Customer Posting Group</th>\n",
       "      <th>Global Dimension 1 Code</th>\n",
       "      <th>Factuurdatum</th>\n",
       "      <th>SBI Sector</th>\n",
       "      <th>elec. factureren</th>\n",
       "      <th>Maand</th>\n",
       "      <th>GenormalisserdBedrag</th>\n",
       "      <th>Verloopdatum</th>\n",
       "      <th>Sluitdatum</th>\n",
       "      <th>Betaaltermijn</th>\n",
       "      <th>DagenOpen</th>\n",
       "      <th>OptijdBetaald</th>\n",
       "    </tr>\n",
       "  </thead>\n",
       "  <tbody>\n",
       "    <tr>\n",
       "      <th>0</th>\n",
       "      <td>AA21-005812</td>\n",
       "      <td>AABZ</td>\n",
       "      <td>0</td>\n",
       "      <td>14 DAGEN</td>\n",
       "      <td>DEB</td>\n",
       "      <td>AA</td>\n",
       "      <td>2021-02-04</td>\n",
       "      <td>94</td>\n",
       "      <td>0</td>\n",
       "      <td>2</td>\n",
       "      <td>-0.321646</td>\n",
       "      <td>2021-02-18</td>\n",
       "      <td>2021-03-04</td>\n",
       "      <td>14</td>\n",
       "      <td>28</td>\n",
       "      <td>0</td>\n",
       "    </tr>\n",
       "    <tr>\n",
       "      <th>1</th>\n",
       "      <td>AA21-010236</td>\n",
       "      <td>AAGO</td>\n",
       "      <td>0</td>\n",
       "      <td>14 DAGEN</td>\n",
       "      <td>DEB</td>\n",
       "      <td>AA</td>\n",
       "      <td>2021-03-01</td>\n",
       "      <td>64</td>\n",
       "      <td>1</td>\n",
       "      <td>3</td>\n",
       "      <td>-0.321646</td>\n",
       "      <td>2021-03-15</td>\n",
       "      <td>2021-04-19</td>\n",
       "      <td>14</td>\n",
       "      <td>49</td>\n",
       "      <td>0</td>\n",
       "    </tr>\n",
       "    <tr>\n",
       "      <th>2</th>\n",
       "      <td>AA20-004861</td>\n",
       "      <td>AAMB</td>\n",
       "      <td>0</td>\n",
       "      <td>14 DAGEN</td>\n",
       "      <td>DEB</td>\n",
       "      <td>AA</td>\n",
       "      <td>2020-01-31</td>\n",
       "      <td>47</td>\n",
       "      <td>0</td>\n",
       "      <td>1</td>\n",
       "      <td>-0.321646</td>\n",
       "      <td>2020-02-14</td>\n",
       "      <td>2020-03-11</td>\n",
       "      <td>14</td>\n",
       "      <td>40</td>\n",
       "      <td>0</td>\n",
       "    </tr>\n",
       "    <tr>\n",
       "      <th>3</th>\n",
       "      <td>AA20-012411</td>\n",
       "      <td>AAGO</td>\n",
       "      <td>0</td>\n",
       "      <td>14 DAGEN</td>\n",
       "      <td>DEB</td>\n",
       "      <td>AA</td>\n",
       "      <td>2020-03-24</td>\n",
       "      <td>70</td>\n",
       "      <td>1</td>\n",
       "      <td>3</td>\n",
       "      <td>-0.321176</td>\n",
       "      <td>2020-04-07</td>\n",
       "      <td>2020-04-14</td>\n",
       "      <td>14</td>\n",
       "      <td>21</td>\n",
       "      <td>0</td>\n",
       "    </tr>\n",
       "    <tr>\n",
       "      <th>4</th>\n",
       "      <td>AA21-038194</td>\n",
       "      <td>AAOB</td>\n",
       "      <td>0</td>\n",
       "      <td>14 DAGEN</td>\n",
       "      <td>DEB</td>\n",
       "      <td>AA</td>\n",
       "      <td>2021-09-23</td>\n",
       "      <td>41</td>\n",
       "      <td>0</td>\n",
       "      <td>9</td>\n",
       "      <td>-0.321176</td>\n",
       "      <td>2021-10-07</td>\n",
       "      <td>2021-10-06</td>\n",
       "      <td>14</td>\n",
       "      <td>13</td>\n",
       "      <td>1</td>\n",
       "    </tr>\n",
       "  </tbody>\n",
       "</table>\n",
       "</div>"
      ],
      "text/plain": [
       "  Factuurnummer Global Dimension 2 Code  Contact Type Payment Terms Code  \\\n",
       "0   AA21-005812                    AABZ             0           14 DAGEN   \n",
       "1   AA21-010236                    AAGO             0           14 DAGEN   \n",
       "2   AA20-004861                    AAMB             0           14 DAGEN   \n",
       "3   AA20-012411                    AAGO             0           14 DAGEN   \n",
       "4   AA21-038194                    AAOB             0           14 DAGEN   \n",
       "\n",
       "  Customer Posting Group Global Dimension 1 Code Factuurdatum SBI Sector  \\\n",
       "0                    DEB                      AA   2021-02-04         94   \n",
       "1                    DEB                      AA   2021-03-01         64   \n",
       "2                    DEB                      AA   2020-01-31         47   \n",
       "3                    DEB                      AA   2020-03-24         70   \n",
       "4                    DEB                      AA   2021-09-23         41   \n",
       "\n",
       "   elec. factureren  Maand  GenormalisserdBedrag Verloopdatum Sluitdatum  \\\n",
       "0                 0      2             -0.321646   2021-02-18 2021-03-04   \n",
       "1                 1      3             -0.321646   2021-03-15 2021-04-19   \n",
       "2                 0      1             -0.321646   2020-02-14 2020-03-11   \n",
       "3                 1      3             -0.321176   2020-04-07 2020-04-14   \n",
       "4                 0      9             -0.321176   2021-10-07 2021-10-06   \n",
       "\n",
       "   Betaaltermijn  DagenOpen  OptijdBetaald  \n",
       "0             14         28              0  \n",
       "1             14         49              0  \n",
       "2             14         40              0  \n",
       "3             14         21              0  \n",
       "4             14         13              1  "
      ]
     },
     "execution_count": 4,
     "metadata": {},
     "output_type": "execute_result"
    }
   ],
   "source": [
    "data.head(5)"
   ]
  },
  {
   "cell_type": "code",
   "execution_count": 5,
   "metadata": {},
   "outputs": [
    {
     "data": {
      "text/plain": [
       "<bound method Series.mean of 0         0\n",
       "1         0\n",
       "2         0\n",
       "3         0\n",
       "4         0\n",
       "         ..\n",
       "116473    0\n",
       "116474    0\n",
       "116475    0\n",
       "116476    0\n",
       "116477    0\n",
       "Name: Contact Type, Length: 116478, dtype: int64>"
      ]
     },
     "execution_count": 5,
     "metadata": {},
     "output_type": "execute_result"
    }
   ],
   "source": [
    "data[\"Contact Type\"].mean"
   ]
  },
  {
   "cell_type": "markdown",
   "metadata": {},
   "source": [
    "<font size=\"6\">2.3 Data verkenning</font>"
   ]
  },
  {
   "cell_type": "markdown",
   "metadata": {},
   "source": [
    "<font size=\"5\">2.3.1 Verkenning per soort</font>"
   ]
  },
  {
   "cell_type": "markdown",
   "metadata": {},
   "source": [
    "- verloop aantal facturen\n",
    "\n",
    "Het verloop van het aantal facturen heeft een bepaald seizoensverloop in zich, uit onderstaande illustraties is te halen dat er met name in zomermaanden augutus en september minder wordt facuren worden verstuurd dan in de overige maanden. Het aantal fucturen lijkt in voor de geselecteerde periode geen grote toenamen of afnamen te vertonen. Daarnaast kan worden gezien dat er op de 1ste van de maand en vanaf halverwegen de maand de meeste facturen verstuurd worden, dit heeft geen verdere invloed op het model maar is wel goed om te weten. "
   ]
  },
  {
   "cell_type": "code",
   "execution_count": 6,
   "metadata": {},
   "outputs": [
    {
     "data": {
      "text/plain": [
       "<AxesSubplot:xlabel='Maand', ylabel='Aantal facturen'>"
      ]
     },
     "execution_count": 6,
     "metadata": {},
     "output_type": "execute_result"
    },
    {
     "data": {
      "image/png": "[encoded data removed]",
      "text/plain": [
       "<Figure size 720x360 with 1 Axes>"
      ]
     },
     "metadata": {
      "needs_background": "light"
     },
     "output_type": "display_data"
    }
   ],
   "source": [
    "data['month_year'] = pd.to_datetime(data['Factuurdatum']).dt.to_period('M')\n",
    "MothCount = data.groupby('month_year')[\"Factuurnummer\"].count()\n",
    "MothCount.plot(kind = 'line',ylabel='Aantal facturen', xlabel='Maand', figsize=(10, 5))"
   ]
  },
  {
   "cell_type": "code",
   "execution_count": 7,
   "metadata": {},
   "outputs": [
    {
     "data": {
      "text/plain": [
       "<AxesSubplot:xlabel='Dag', ylabel='Aantal facturen'>"
      ]
     },
     "execution_count": 7,
     "metadata": {},
     "output_type": "execute_result"
    },
    {
     "data": {
      "image/png": "[encoded data removed]",
      "text/plain": [
       "<Figure size 720x360 with 1 Axes>"
      ]
     },
     "metadata": {
      "needs_background": "light"
     },
     "output_type": "display_data"
    }
   ],
   "source": [
    "data['Factuur_Day'] = data['Factuurdatum'].dt.day\n",
    "DayCount = data.groupby('Factuur_Day')[\"Factuurnummer\"].count()\n",
    "DayCount.plot(kind = 'line',ylabel='Aantal facturen', xlabel='Dag', figsize=(10, 5))"
   ]
  },
  {
   "cell_type": "markdown",
   "metadata": {},
   "source": [
    "Vestingen\n",
    "- Aantal per vesting.\n",
    "\n",
    "De vestigingen beginnend met AA staan voor de vestigeingen welke gekoppeld zijn aan het bedrijf Moore DRV, deze vestigingen hebben de meeste klanten en daarmee dus ook de meeste facturen. Er zitten verschillen tussen de vestigingen en de verhouding of iets wel of niet optijd betaald is, wellicht is de vestig dus een intressante parameter voor het model."
   ]
  },
  {
   "cell_type": "code",
   "execution_count": 8,
   "metadata": {},
   "outputs": [
    {
     "data": {
      "image/png": "[encoded data removed]",
      "text/plain": [
       "<Figure size 1296x720 with 1 Axes>"
      ]
     },
     "metadata": {},
     "output_type": "display_data"
    }
   ],
   "source": [
    "sns.set_theme(style=\"darkgrid\")\n",
    "fig, ax = plt.subplots(figsize=(18,10))\n",
    "ax = sns.countplot(x=\"Global Dimension 2 Code\",hue = \"OptijdBetaald\", data=data,order=data['Global Dimension 2 Code'].value_counts().index)"
   ]
  },
  {
   "cell_type": "markdown",
   "metadata": {},
   "source": [
    "- Betaal gedrag\n",
    "\n",
    "Het aantal wel of niet optijd betaalde facturen is ongeveer gelijk, dit is mooi startpunt voor ons model. Daarnaast is te zien dat het grootste deel van de optijd betaalde facuren op dag 13 of 14 wordt betaald. Net als voor vestiging verschild verhouding wel of niet optijd betaald per maand, dit maakt dat dit ook een interessante parameter kan zijn.\n",
    "\n",
    "Wanneer de gemiddelde van de overige parametrs voor zowel de groep facturen die op tijd zijn betaald als voor de groep welke dat niet kan worden gecocludeerd dat:\n",
    "\n",
    "- Zakelijke Klanten vaker optijd betalen.\n",
    "- Klanten met electonisch factureren niet altijd sneller betalen als klant zonder electronisch factureren. \n",
    "- Hoe lager het factuur bedrag, hoe groter de kans dat de facuur optijd betaald wordt. "
   ]
  },
  {
   "cell_type": "code",
   "execution_count": 9,
   "metadata": {},
   "outputs": [
    {
     "data": {
      "image/png": "[encoded data removed]",
      "text/plain": [
       "<Figure size 720x576 with 1 Axes>"
      ]
     },
     "metadata": {},
     "output_type": "display_data"
    }
   ],
   "source": [
    "sns.set_theme(style=\"darkgrid\")\n",
    "fig, ax = plt.subplots(figsize=(10,8))\n",
    "ax = sns.countplot(x=\"OptijdBetaald\", data=data,order=data['OptijdBetaald'].value_counts().index)"
   ]
  },
  {
   "cell_type": "code",
   "execution_count": 10,
   "metadata": {},
   "outputs": [
    {
     "data": {
      "text/plain": [
       "<AxesSubplot:xlabel='Dagen open', ylabel='Aantal facturen'>"
      ]
     },
     "execution_count": 10,
     "metadata": {},
     "output_type": "execute_result"
    },
    {
     "data": {
      "image/png": "[encoded data removed]",
      "text/plain": [
       "<Figure size 720x720 with 1 Axes>"
      ]
     },
     "metadata": {},
     "output_type": "display_data"
    }
   ],
   "source": [
    "MothCount = data.groupby('DagenOpen')[\"Factuurnummer\"].count()\n",
    "MothCount.plot(kind = 'line',ylabel='Aantal facturen', xlabel='Dagen open', figsize=(10, 10),xlim=(0,100),ylim=(0,12000))"
   ]
  },
  {
   "cell_type": "code",
   "execution_count": 11,
   "metadata": {},
   "outputs": [
    {
     "data": {
      "image/png": "[encoded data removed]",
      "text/plain": [
       "<Figure size 1296x720 with 1 Axes>"
      ]
     },
     "metadata": {},
     "output_type": "display_data"
    }
   ],
   "source": [
    "sns.set_theme(style=\"darkgrid\")\n",
    "fig, ax = plt.subplots(figsize=(18,10))\n",
    "ax = sns.countplot(x=\"Maand\",hue = \"OptijdBetaald\", data=data)"
   ]
  },
  {
   "cell_type": "code",
   "execution_count": 12,
   "metadata": {},
   "outputs": [
    {
     "data": {
      "text/html": [
       "<div>\n",
       "<style scoped>\n",
       "    .dataframe tbody tr th:only-of-type {\n",
       "        vertical-align: middle;\n",
       "    }\n",
       "\n",
       "    .dataframe tbody tr th {\n",
       "        vertical-align: top;\n",
       "    }\n",
       "\n",
       "    .dataframe thead th {\n",
       "        text-align: right;\n",
       "    }\n",
       "</style>\n",
       "<table border=\"1\" class=\"dataframe\">\n",
       "  <thead>\n",
       "    <tr style=\"text-align: right;\">\n",
       "      <th></th>\n",
       "      <th>Contact Type</th>\n",
       "      <th>elec. factureren</th>\n",
       "      <th>Maand</th>\n",
       "      <th>GenormalisserdBedrag</th>\n",
       "      <th>Betaaltermijn</th>\n",
       "      <th>DagenOpen</th>\n",
       "      <th>Factuur_Day</th>\n",
       "    </tr>\n",
       "    <tr>\n",
       "      <th>OptijdBetaald</th>\n",
       "      <th></th>\n",
       "      <th></th>\n",
       "      <th></th>\n",
       "      <th></th>\n",
       "      <th></th>\n",
       "      <th></th>\n",
       "      <th></th>\n",
       "    </tr>\n",
       "  </thead>\n",
       "  <tbody>\n",
       "    <tr>\n",
       "      <th>0</th>\n",
       "      <td>0.062175</td>\n",
       "      <td>0.682094</td>\n",
       "      <td>6.329903</td>\n",
       "      <td>-0.132938</td>\n",
       "      <td>14.579222</td>\n",
       "      <td>46.882477</td>\n",
       "      <td>17.341211</td>\n",
       "    </tr>\n",
       "    <tr>\n",
       "      <th>1</th>\n",
       "      <td>0.112411</td>\n",
       "      <td>0.596042</td>\n",
       "      <td>6.532208</td>\n",
       "      <td>-0.148326</td>\n",
       "      <td>14.870604</td>\n",
       "      <td>9.217690</td>\n",
       "      <td>17.521329</td>\n",
       "    </tr>\n",
       "  </tbody>\n",
       "</table>\n",
       "</div>"
      ],
      "text/plain": [
       "               Contact Type  elec. factureren     Maand  GenormalisserdBedrag  \\\n",
       "OptijdBetaald                                                                   \n",
       "0                  0.062175          0.682094  6.329903             -0.132938   \n",
       "1                  0.112411          0.596042  6.532208             -0.148326   \n",
       "\n",
       "               Betaaltermijn  DagenOpen  Factuur_Day  \n",
       "OptijdBetaald                                         \n",
       "0                  14.579222  46.882477    17.341211  \n",
       "1                  14.870604   9.217690    17.521329  "
      ]
     },
     "execution_count": 12,
     "metadata": {},
     "output_type": "execute_result"
    }
   ],
   "source": [
    "data.groupby('OptijdBetaald').mean()"
   ]
  },
  {
   "cell_type": "markdown",
   "metadata": {},
   "source": [
    "SBI Code\n",
    "\n",
    "Het aantal facuren per sbi code loopt flink uiteen, om een beeld te vormen hieronder de drie sectoren waarna de meeste facturen worden verstuurd. Ook voor deze parameter lijkt verschil te zitten in de verdelingen tussen wel en niet betaalde facturen, waardoor ook deze featrue interssant kan zijn. \n",
    "\n",
    "1. 64 > Financiële instellingen (geen verzekeringen en pensioenfondsen)\n",
    "2. 46 > Groothandel en handelsbemiddeling (niet in auto’s en motorfietsen)\n",
    "3. 47 > Detailhandel (niet in auto’s)"
   ]
  },
  {
   "cell_type": "code",
   "execution_count": 13,
   "metadata": {},
   "outputs": [
    {
     "data": {
      "image/png": "[encoded data removed]",
      "text/plain": [
       "<Figure size 1296x720 with 1 Axes>"
      ]
     },
     "metadata": {},
     "output_type": "display_data"
    }
   ],
   "source": [
    "sns.set_theme(style=\"darkgrid\")\n",
    "fig, ax = plt.subplots(figsize=(18,10))\n",
    "ax = sns.countplot(x=\"SBI Sector\",hue = \"OptijdBetaald\", data=data,order=data['SBI Sector'].value_counts().index)"
   ]
  },
  {
   "cell_type": "markdown",
   "metadata": {},
   "source": [
    "- Contact type\n",
    "\n",
    "Er is een aanzienlijk verschil tussen het aantal facturen naar 0(zakelijke) en 1(particulieren) klanten. Ook de verdeling tussen de het wel of niet optijd betalen en de type klant lijkt niet gelijk, zakelijke klanten betalen vaker niet op tijd dan wel optijd voor particulieren is dit precies anderzom. "
   ]
  },
  {
   "cell_type": "code",
   "execution_count": 14,
   "metadata": {},
   "outputs": [
    {
     "data": {
      "image/png": "[encoded data removed]",
      "text/plain": [
       "<Figure size 1296x720 with 1 Axes>"
      ]
     },
     "metadata": {},
     "output_type": "display_data"
    }
   ],
   "source": [
    "sns.set_theme(style=\"darkgrid\")\n",
    "fig, ax = plt.subplots(figsize=(18,10))\n",
    "ax = sns.countplot(x=\"Contact Type\",hue = \"OptijdBetaald\", data=data,order=data['Contact Type'].value_counts().index)"
   ]
  },
  {
   "cell_type": "markdown",
   "metadata": {},
   "source": [
    "- Contact factuurtype\n",
    "\n",
    "Er worden meer facuren gestuurd naar klanten met electonisch facturen als klant zonder deze instelling. Ook voor deze feater geld dat de verdeling van elkaar afwijken. De klanten zonder eletronisch factureren betalen vaker op tijd dan niet optijd, voor de klanten met elecotonisch factureren is dit precies anderzom."
   ]
  },
  {
   "cell_type": "code",
   "execution_count": 15,
   "metadata": {},
   "outputs": [
    {
     "data": {
      "image/png": "[encoded data removed]",
      "text/plain": [
       "<Figure size 1296x720 with 1 Axes>"
      ]
     },
     "metadata": {},
     "output_type": "display_data"
    }
   ],
   "source": [
    "sns.set_theme(style=\"darkgrid\")\n",
    "fig, ax = plt.subplots(figsize=(18,10))\n",
    "ax = sns.countplot(x=\"elec. factureren\",hue = \"OptijdBetaald\", data=data,order=data['elec. factureren'].value_counts().index)"
   ]
  },
  {
   "cell_type": "markdown",
   "metadata": {},
   "source": [
    "<font size=\"6\">2.4 Data kwaliteit</font>"
   ]
  },
  {
   "cell_type": "markdown",
   "metadata": {},
   "source": [
    "- onbekende waarden\n",
    "\n",
    "In onderstaande illustratie is te zien dat er een een waarde is waarde is waar relatief veel missende waardes zijn namelijk SBI-code. De reden hiervan is goed te verklaren, een particiculier is namelijk niet in te delen in een sector omdat het geen bedrijf betreft. Er zal dus goed gekeken moeten worden welke invloed dit heeft op het model."
   ]
  },
  {
   "cell_type": "code",
   "execution_count": 16,
   "metadata": {},
   "outputs": [
    {
     "data": {
      "text/plain": [
       "<AxesSubplot:xlabel='Kolommen', ylabel='Aaantal NA'>"
      ]
     },
     "execution_count": 16,
     "metadata": {},
     "output_type": "execute_result"
    },
    {
     "data": {
      "image/png": "[encoded data removed]",
      "text/plain": [
       "<Figure size 720x360 with 1 Axes>"
      ]
     },
     "metadata": {},
     "output_type": "display_data"
    }
   ],
   "source": [
    "ISna = data.isna().sum() \n",
    "ISna.plot(kind = 'bar',ylabel='Aaantal NA', xlabel='Kolommen', figsize=(10, 5))"
   ]
  },
  {
   "cell_type": "markdown",
   "metadata": {},
   "source": [
    "<font size=\"10\">3 Data prepareren</font>\n"
   ]
  },
  {
   "cell_type": "markdown",
   "metadata": {},
   "source": [
    "<font size=\"6\">3.1 Data selecteren</font>\n",
    "\n",
    "In onderstaande fase worden alle kolommen welke niet noodzakelijk zijn voor het model verwijderd, zo blijven er alleen featrus en de target over. "
   ]
  },
  {
   "cell_type": "code",
   "execution_count": 17,
   "metadata": {},
   "outputs": [
    {
     "data": {
      "text/html": [
       "<div>\n",
       "<style scoped>\n",
       "    .dataframe tbody tr th:only-of-type {\n",
       "        vertical-align: middle;\n",
       "    }\n",
       "\n",
       "    .dataframe tbody tr th {\n",
       "        vertical-align: top;\n",
       "    }\n",
       "\n",
       "    .dataframe thead th {\n",
       "        text-align: right;\n",
       "    }\n",
       "</style>\n",
       "<table border=\"1\" class=\"dataframe\">\n",
       "  <thead>\n",
       "    <tr style=\"text-align: right;\">\n",
       "      <th></th>\n",
       "      <th>Contact Type</th>\n",
       "      <th>elec. factureren</th>\n",
       "      <th>Maand</th>\n",
       "      <th>GenormalisserdBedrag</th>\n",
       "      <th>target</th>\n",
       "    </tr>\n",
       "  </thead>\n",
       "  <tbody>\n",
       "    <tr>\n",
       "      <th>0</th>\n",
       "      <td>0</td>\n",
       "      <td>0</td>\n",
       "      <td>2</td>\n",
       "      <td>-0.321646</td>\n",
       "      <td>0</td>\n",
       "    </tr>\n",
       "    <tr>\n",
       "      <th>1</th>\n",
       "      <td>0</td>\n",
       "      <td>1</td>\n",
       "      <td>3</td>\n",
       "      <td>-0.321646</td>\n",
       "      <td>0</td>\n",
       "    </tr>\n",
       "    <tr>\n",
       "      <th>2</th>\n",
       "      <td>0</td>\n",
       "      <td>0</td>\n",
       "      <td>1</td>\n",
       "      <td>-0.321646</td>\n",
       "      <td>0</td>\n",
       "    </tr>\n",
       "    <tr>\n",
       "      <th>3</th>\n",
       "      <td>0</td>\n",
       "      <td>1</td>\n",
       "      <td>3</td>\n",
       "      <td>-0.321176</td>\n",
       "      <td>0</td>\n",
       "    </tr>\n",
       "    <tr>\n",
       "      <th>4</th>\n",
       "      <td>0</td>\n",
       "      <td>0</td>\n",
       "      <td>9</td>\n",
       "      <td>-0.321176</td>\n",
       "      <td>1</td>\n",
       "    </tr>\n",
       "    <tr>\n",
       "      <th>...</th>\n",
       "      <td>...</td>\n",
       "      <td>...</td>\n",
       "      <td>...</td>\n",
       "      <td>...</td>\n",
       "      <td>...</td>\n",
       "    </tr>\n",
       "    <tr>\n",
       "      <th>116473</th>\n",
       "      <td>0</td>\n",
       "      <td>0</td>\n",
       "      <td>1</td>\n",
       "      <td>0.415883</td>\n",
       "      <td>0</td>\n",
       "    </tr>\n",
       "    <tr>\n",
       "      <th>116474</th>\n",
       "      <td>0</td>\n",
       "      <td>1</td>\n",
       "      <td>2</td>\n",
       "      <td>0.415883</td>\n",
       "      <td>1</td>\n",
       "    </tr>\n",
       "    <tr>\n",
       "      <th>116475</th>\n",
       "      <td>0</td>\n",
       "      <td>1</td>\n",
       "      <td>11</td>\n",
       "      <td>0.416117</td>\n",
       "      <td>1</td>\n",
       "    </tr>\n",
       "    <tr>\n",
       "      <th>116476</th>\n",
       "      <td>0</td>\n",
       "      <td>1</td>\n",
       "      <td>1</td>\n",
       "      <td>0.416117</td>\n",
       "      <td>1</td>\n",
       "    </tr>\n",
       "    <tr>\n",
       "      <th>116477</th>\n",
       "      <td>0</td>\n",
       "      <td>1</td>\n",
       "      <td>10</td>\n",
       "      <td>0.416117</td>\n",
       "      <td>0</td>\n",
       "    </tr>\n",
       "  </tbody>\n",
       "</table>\n",
       "<p>116478 rows × 5 columns</p>\n",
       "</div>"
      ],
      "text/plain": [
       "        Contact Type  elec. factureren  Maand  GenormalisserdBedrag  target\n",
       "0                  0                 0      2             -0.321646       0\n",
       "1                  0                 1      3             -0.321646       0\n",
       "2                  0                 0      1             -0.321646       0\n",
       "3                  0                 1      3             -0.321176       0\n",
       "4                  0                 0      9             -0.321176       1\n",
       "...              ...               ...    ...                   ...     ...\n",
       "116473             0                 0      1              0.415883       0\n",
       "116474             0                 1      2              0.415883       1\n",
       "116475             0                 1     11              0.416117       1\n",
       "116476             0                 1      1              0.416117       1\n",
       "116477             0                 1     10              0.416117       0\n",
       "\n",
       "[116478 rows x 5 columns]"
      ]
     },
     "execution_count": 17,
     "metadata": {},
     "output_type": "execute_result"
    }
   ],
   "source": [
    "data = data.drop(['Factuurnummer','Global Dimension 2 Code', 'Payment Terms Code','Customer Posting Group','Global Dimension 1 Code','Factuurdatum',\n",
    "'Verloopdatum','Sluitdatum','Betaaltermijn','DagenOpen','month_year','Factuur_Day','SBI Sector'], axis = 1)\n",
    "\n",
    "data = data.rename(columns={'OptijdBetaald': 'target'})\n",
    "\n",
    "data"
   ]
  },
  {
   "cell_type": "markdown",
   "metadata": {},
   "source": [
    "<font size=\"6\">3.2 Train en test split</font>\n",
    "\n",
    "De data wordt in onderstaande fase gesplits in een train en een test set. Zoals in voorgaande hoofdstuk al duidelijk is geworden bevat de data set 116.478 rijen. Door de grote van deze dateset is er behoordelijk wat flexibiltiet om de grote van de train en de test bepalen. Er is voor gekozen om de train test verdeling van 80/20 aan te houden op basis van onderstaande bron.\n",
    "\n",
    "Er gekozen om de verdeling door de train_test_split module van Sklearn te leten doen, deze split de dataset random waardoor er minder kans is op voorkeuren in de data.\n",
    "\n",
    "<img src=https://www.baeldung.com/wp-content/uploads/sites/4/2021/01/split_dataset-n-on-split.png height=\"400\">\n",
    "\n",
    "(A. Aylin Tokuç,2021)"
   ]
  },
  {
   "cell_type": "code",
   "execution_count": 18,
   "metadata": {},
   "outputs": [
    {
     "data": {
      "text/plain": [
       "((116478, 5), (93182, 4), (23296, 4), (93182,), (23296,))"
      ]
     },
     "execution_count": 18,
     "metadata": {},
     "output_type": "execute_result"
    }
   ],
   "source": [
    "from sklearn.model_selection import train_test_split\n",
    "X = data.drop('target', axis=1)\n",
    "y = data['target']\n",
    "\n",
    "X_train, X_test, y_train, y_test = train_test_split(X, y, train_size = 0.8)\n",
    "data.shape , X_train.shape, X_test.shape,y_train.shape,y_test.shape"
   ]
  },
  {
   "cell_type": "markdown",
   "metadata": {},
   "source": [
    "\n",
    "<font size=\"6\">3.3 Data prepareren</font>\n",
    "\n",
    "In onderstaande fase wordt de datasets gereed gemaakt om op te trainen en testen. De kolommen SBI Sector en Maand bevatten catagorische kenmerken welke geen specifieke voorkeursvolgorde hebben daardoor kan het model niet omgaam met deze waarden. De oplossing welke is gekozen is one hot encoding, hierdoor worden deze kolommen verdeeld over het aantal unieke waarde welke in deze kolomm zit.\n",
    "\n",
    "Als laatste worden de datasets omgezet naat NuMPy-arrays, deze zijn sneller, compacter en makkelijker te optimaliseren. "
   ]
  },
  {
   "cell_type": "code",
   "execution_count": 19,
   "metadata": {},
   "outputs": [],
   "source": [
    "#X_train = pd.get_dummies(X_train, columns = ['Maand','SBI Sector'])\n",
    "#X_test = pd.get_dummies(X_test, columns = ['Maand','SBI Sector'])"
   ]
  },
  {
   "cell_type": "code",
   "execution_count": 20,
   "metadata": {},
   "outputs": [],
   "source": [
    "X_train = pd.get_dummies(X_train, columns = ['Maand'])\n",
    "X_test = pd.get_dummies(X_test, columns = ['Maand'])"
   ]
  },
  {
   "cell_type": "code",
   "execution_count": 21,
   "metadata": {},
   "outputs": [
    {
     "data": {
      "text/plain": [
       "((116478, 5), (93182, 15), (23296, 15), (93182,), (23296,))"
      ]
     },
     "execution_count": 21,
     "metadata": {},
     "output_type": "execute_result"
    }
   ],
   "source": [
    "data.shape , X_train.shape, X_test.shape,y_train.shape,y_test.shape"
   ]
  },
  {
   "cell_type": "code",
   "execution_count": 22,
   "metadata": {},
   "outputs": [],
   "source": [
    "X_train = X_train.to_numpy()\n",
    "X_test = X_test.to_numpy()"
   ]
  },
  {
   "cell_type": "markdown",
   "metadata": {},
   "source": [
    "<font size=\"10\">4 Modeleren</font>"
   ]
  },
  {
   "cell_type": "markdown",
   "metadata": {},
   "source": [
    "<font size=\"6\">4.1 baseline</font>\n"
   ]
  },
  {
   "cell_type": "markdown",
   "metadata": {},
   "source": [
    "- Eerste model\n",
    "\n",
    "keuze uitleggen"
   ]
  },
  {
   "cell_type": "code",
   "execution_count": 23,
   "metadata": {},
   "outputs": [],
   "source": [
    "import tensorflow as tf \n",
    "import numpy as np\n",
    "from tensorflow import keras\n",
    "from tensorflow.keras.datasets import fashion_mnist, mnist\n",
    "import datetime\n",
    "from tensorflow.keras.callbacks import EarlyStopping\n",
    "from tensorflow.keras.models import Sequential, load_model\n",
    "from tensorflow.keras import Model\n",
    "from tensorflow.keras.layers import Dense, Flatten, Input, Dropout, BatchNormalization, Conv2D, MaxPool2D\n",
    "from tensorflow.keras.layers.experimental.preprocessing import Rescaling\n",
    "import matplotlib.pyplot as plt\n",
    "from utils import *"
   ]
  },
  {
   "cell_type": "code",
   "execution_count": 24,
   "metadata": {},
   "outputs": [],
   "source": [
    "result = {}\n",
    "score = {}"
   ]
  },
  {
   "cell_type": "code",
   "execution_count": 43,
   "metadata": {},
   "outputs": [
    {
     "name": "stdout",
     "output_type": "stream",
     "text": [
      "2912/2912 [==============================] - 5s 2ms/step - loss: 0.7397 - accuracy: 0.5354 - val_loss: 0.6860 - val_accuracy: 0.5496\n",
      "728/728 [==============================] - 1s 1ms/step - loss: 0.6860 - accuracy: 0.5496\n",
      "Wall time: 6.64 s\n"
     ]
    }
   ],
   "source": [
    "%%time\n",
    "early_stop = EarlyStopping(patience=5, restore_best_weights=True)\n",
    "from tensorflow.keras.layers import Reshape\n",
    "tf.random.set_seed(42)\n",
    "model = Sequential([\n",
    "    #Rescaling(1./255),\n",
    "    #Flatten(),\n",
    "    Dense(50, activation='relu'),\n",
    "    Dense(50, activation='relu'),\n",
    "    Dense(50, activation='softmax')\n",
    "])\n",
    "model.compile(loss=\"sparse_categorical_crossentropy\", optimizer=keras.optimizers.Adam(), metrics=['accuracy'])\n",
    "result['base'] = model.fit(X_train, y_train, epochs=1, validation_data=(X_test, y_test), callbacks=[early_stop], verbose = 1)\n",
    "score['base']=model.evaluate(X_test, y_test)\n"
   ]
  },
  {
   "cell_type": "code",
   "execution_count": 44,
   "metadata": {},
   "outputs": [
    {
     "name": "stdout",
     "output_type": "stream",
     "text": [
      "2912/2912 [==============================] - 28s 9ms/step - loss: 0.7888 - accuracy: 0.5141 - val_loss: 0.7027 - val_accuracy: 0.5375\n",
      "728/728 [==============================] - 2s 3ms/step - loss: 0.7027 - accuracy: 0.5375\n",
      "Wall time: 30.6 s\n"
     ]
    }
   ],
   "source": [
    "%%time\n",
    "tf.random.set_seed(42)\n",
    "early_stop = EarlyStopping(patience=5, restore_best_weights=True)\n",
    "model = Sequential([\n",
    "    #Rescaling(1./255),\n",
    "    #Flatten(),\n",
    "    Dense(1024, activation='relu'),\n",
    "    BatchNormalization(),\n",
    "    Dense(512, activation='relu'),\n",
    "    BatchNormalization(),\n",
    "    Dropout(0.3),\n",
    "    Dense(10, activation='softmax')\n",
    "])\n",
    "\n",
    "model.compile(loss=\"sparse_categorical_crossentropy\", optimizer=keras.optimizers.Adam(), metrics=['accuracy'])\n",
    "result['hugedense'] = model.fit(X_train, y_train, epochs=1, validation_data=(X_test, y_test), \n",
    "                            callbacks=[early_stop],verbose = 1)\n",
    "score['hugedense']=model.evaluate(X_test, y_test)"
   ]
  },
  {
   "cell_type": "code",
   "execution_count": 46,
   "metadata": {},
   "outputs": [
    {
     "data": {
      "image/png": "[encoded data removed]",
      "text/plain": [
       "<Figure size 1080x720 with 2 Axes>"
      ]
     },
     "metadata": {},
     "output_type": "display_data"
    }
   ],
   "source": [
    "plot_results(result,ymin=0.6, ymax=1, yscale='linear')"
   ]
  },
  {
   "cell_type": "code",
   "execution_count": 25,
   "metadata": {},
   "outputs": [
    {
     "name": "stdout",
     "output_type": "stream",
     "text": [
      "Model: \"hypermodel\"\n",
      "_________________________________________________________________\n",
      " Layer (type)                Output Shape              Param #   \n",
      "=================================================================\n",
      " dense (Dense)               multiple                  1024      \n",
      "                                                                 \n",
      " dense_1 (Dense)             multiple                  4160      \n",
      "                                                                 \n",
      " dense_2 (Dense)             multiple                  4160      \n",
      "                                                                 \n",
      " dense_3 (Dense)             multiple                  65        \n",
      "                                                                 \n",
      "=================================================================\n",
      "Total params: 9,409\n",
      "Trainable params: 9,409\n",
      "Non-trainable params: 0\n",
      "_________________________________________________________________\n"
     ]
    }
   ],
   "source": [
    "from src.models import hypermodel\n",
    "\n",
    "datafile = Path(\".\") / \"data/processed/data.npy\"\n",
    "local_dir = Path(\"./models/ray\")\n",
    "logbase = Path(\".\") / \"logs\"\n",
    "datafile.exists()\n",
    "\n",
    "config = {\n",
    "    \"datafile\" : datafile.absolute(),\n",
    "    \"units\" : 64,\n",
    "    \"dense_layers\" : 2,\n",
    "    \"activation\" : \"relu\", \n",
    "    \"optimizer\" : \"Adam\", \n",
    "    \"epochs\" : 30,\n",
    "    \"local_dir\" : local_dir.absolute(),\n",
    "    \"log_dir\" : logbase.absolute() / \"hypertuned\",\n",
    "    \"samples\" : 5,\n",
    "}\n",
    "\n",
    "model = hypermodel.hypermodel(config)\n",
    "\n",
    "# build will happen automatically when you feed the model a batch of data\n",
    "# however, to show the summary, we either need to do that,\n",
    "# or we can call .build() on the model.\n",
    "# do you understand why the model needs the shape information to build the model?\n",
    "model.build(input_shape=X_train[1:].shape) \n",
    "model.summary()"
   ]
  },
  {
   "cell_type": "code",
   "execution_count": 27,
   "metadata": {},
   "outputs": [],
   "source": [
    "from ray import tune"
   ]
  },
  {
   "cell_type": "code",
   "execution_count": 31,
   "metadata": {},
   "outputs": [
    {
     "data": {
      "text/plain": [
       "{'datafile': WindowsPath('c:/Users/JansenG/ml-21-master/Project ML-21-Geert Jansen/notebooks/data/processed/data.npy'),\n",
       " 'units': <ray.tune.sample.Integer at 0x271e13ddf10>,\n",
       " 'dense_layers': <ray.tune.sample.Integer at 0x271e13ddac0>,\n",
       " 'activation': 'relu',\n",
       " 'optimizer': 'Adam',\n",
       " 'epochs': 30,\n",
       " 'local_dir': WindowsPath('c:/Users/JansenG/ml-21-master/Project ML-21-Geert Jansen/notebooks/models/ray'),\n",
       " 'log_dir': WindowsPath('c:/Users/JansenG/ml-21-master/Project ML-21-Geert Jansen/notebooks/logs/hypertuned'),\n",
       " 'samples': 10,\n",
       " 'grace_period': 3,\n",
       " 'modulepath': WindowsPath('../src')}"
      ]
     },
     "execution_count": 31,
     "metadata": {},
     "output_type": "execute_result"
    }
   ],
   "source": [
    "config = {\n",
    "    \"datafile\" : datafile.absolute(),\n",
    "    \"units\" : tune.qrandint(16, 128, 8),\n",
    "    \"dense_layers\" : tune.randint(2,6), \n",
    "    \"activation\" : \"relu\", \n",
    "    \"optimizer\" : \"Adam\", \n",
    "    \"epochs\" : 30,\n",
    "    \"local_dir\" : local_dir.absolute(),\n",
    "    \"log_dir\" : logbase.absolute() / \"hypertuned\",\n",
    "    \"samples\" : 10,\n",
    "    \"grace_period\" : 3,\n",
    "    \"modulepath\" : Path(\"../src\")\n",
    "}\n",
    "config"
   ]
  },
  {
   "cell_type": "code",
   "execution_count": 32,
   "metadata": {},
   "outputs": [
    {
     "ename": "RuntimeError",
     "evalue": "Maybe you called ray.init twice by accident? This error can be suppressed by passing in 'ignore_reinit_error=True' or by calling 'ray.shutdown()' prior to 'ray.init()'.",
     "output_type": "error",
     "traceback": [
      "\u001b[1;31m---------------------------------------------------------------------------\u001b[0m",
      "\u001b[1;31mRuntimeError\u001b[0m                              Traceback (most recent call last)",
      "\u001b[1;32m<ipython-input-32-3f67d9f549da>\u001b[0m in \u001b[0;36m<module>\u001b[1;34m\u001b[0m\n\u001b[0;32m      1\u001b[0m \u001b[1;32mfrom\u001b[0m \u001b[0msrc\u001b[0m\u001b[1;33m.\u001b[0m\u001b[0mmodels\u001b[0m \u001b[1;32mimport\u001b[0m \u001b[0mtrain_model\u001b[0m\u001b[1;33m\u001b[0m\u001b[1;33m\u001b[0m\u001b[0m\n\u001b[1;32m----> 2\u001b[1;33m \u001b[0manalysis\u001b[0m \u001b[1;33m=\u001b[0m \u001b[0mtrain_model\u001b[0m\u001b[1;33m.\u001b[0m\u001b[0mhypertune\u001b[0m\u001b[1;33m(\u001b[0m\u001b[0miterations\u001b[0m\u001b[1;33m=\u001b[0m\u001b[1;36m1\u001b[0m\u001b[1;33m,\u001b[0m \u001b[0mconfig\u001b[0m\u001b[1;33m=\u001b[0m\u001b[0mconfig\u001b[0m\u001b[1;33m)\u001b[0m\u001b[1;33m\u001b[0m\u001b[1;33m\u001b[0m\u001b[0m\n\u001b[0m",
      "\u001b[1;32mc:\\Users\\JansenG\\ml-21-master\\Project ML-21-Geert Jansen\\src\\models\\train_model.py\u001b[0m in \u001b[0;36mhypertune\u001b[1;34m(iterations, config)\u001b[0m\n\u001b[0;32m    102\u001b[0m     \u001b[0miterations\u001b[0m\u001b[1;33m:\u001b[0m \u001b[0mint\u001b[0m\u001b[1;33m,\u001b[0m \u001b[0mconfig\u001b[0m\u001b[1;33m:\u001b[0m \u001b[0mDict\u001b[0m\u001b[1;33m\u001b[0m\u001b[1;33m\u001b[0m\u001b[0m\n\u001b[0;32m    103\u001b[0m ) -> tune.analysis.experiment_analysis.ExperimentAnalysis:\n\u001b[1;32m--> 104\u001b[1;33m     \u001b[0mray\u001b[0m\u001b[1;33m.\u001b[0m\u001b[0minit\u001b[0m\u001b[1;33m(\u001b[0m\u001b[0mlog_to_driver\u001b[0m\u001b[1;33m=\u001b[0m\u001b[1;32mFalse\u001b[0m\u001b[1;33m)\u001b[0m\u001b[1;33m\u001b[0m\u001b[1;33m\u001b[0m\u001b[0m\n\u001b[0m\u001b[0;32m    105\u001b[0m     sched = AsyncHyperBandScheduler(\n\u001b[0;32m    106\u001b[0m         \u001b[0mtime_attr\u001b[0m\u001b[1;33m=\u001b[0m\u001b[1;34m\"training_iteration\"\u001b[0m\u001b[1;33m,\u001b[0m \u001b[0mmax_t\u001b[0m\u001b[1;33m=\u001b[0m\u001b[1;36m200\u001b[0m\u001b[1;33m,\u001b[0m \u001b[0mgrace_period\u001b[0m\u001b[1;33m=\u001b[0m\u001b[0mconfig\u001b[0m\u001b[1;33m[\u001b[0m\u001b[1;34m\"grace_period\"\u001b[0m\u001b[1;33m]\u001b[0m\u001b[1;33m\u001b[0m\u001b[1;33m\u001b[0m\u001b[0m\n",
      "\u001b[1;32m~\\Anaconda3\\lib\\site-packages\\ray\\_private\\client_mode_hook.py\u001b[0m in \u001b[0;36mwrapper\u001b[1;34m(*args, **kwargs)\u001b[0m\n\u001b[0;32m    103\u001b[0m             \u001b[1;32mif\u001b[0m \u001b[0mfunc\u001b[0m\u001b[1;33m.\u001b[0m\u001b[0m__name__\u001b[0m \u001b[1;33m!=\u001b[0m \u001b[1;34m\"init\"\u001b[0m \u001b[1;32mor\u001b[0m \u001b[0mis_client_mode_enabled_by_default\u001b[0m\u001b[1;33m:\u001b[0m\u001b[1;33m\u001b[0m\u001b[1;33m\u001b[0m\u001b[0m\n\u001b[0;32m    104\u001b[0m                 \u001b[1;32mreturn\u001b[0m \u001b[0mgetattr\u001b[0m\u001b[1;33m(\u001b[0m\u001b[0mray\u001b[0m\u001b[1;33m,\u001b[0m \u001b[0mfunc\u001b[0m\u001b[1;33m.\u001b[0m\u001b[0m__name__\u001b[0m\u001b[1;33m)\u001b[0m\u001b[1;33m(\u001b[0m\u001b[1;33m*\u001b[0m\u001b[0margs\u001b[0m\u001b[1;33m,\u001b[0m \u001b[1;33m**\u001b[0m\u001b[0mkwargs\u001b[0m\u001b[1;33m)\u001b[0m\u001b[1;33m\u001b[0m\u001b[1;33m\u001b[0m\u001b[0m\n\u001b[1;32m--> 105\u001b[1;33m         \u001b[1;32mreturn\u001b[0m \u001b[0mfunc\u001b[0m\u001b[1;33m(\u001b[0m\u001b[1;33m*\u001b[0m\u001b[0margs\u001b[0m\u001b[1;33m,\u001b[0m \u001b[1;33m**\u001b[0m\u001b[0mkwargs\u001b[0m\u001b[1;33m)\u001b[0m\u001b[1;33m\u001b[0m\u001b[1;33m\u001b[0m\u001b[0m\n\u001b[0m\u001b[0;32m    106\u001b[0m \u001b[1;33m\u001b[0m\u001b[0m\n\u001b[0;32m    107\u001b[0m     \u001b[1;32mreturn\u001b[0m \u001b[0mwrapper\u001b[0m\u001b[1;33m\u001b[0m\u001b[1;33m\u001b[0m\u001b[0m\n",
      "\u001b[1;32m~\\Anaconda3\\lib\\site-packages\\ray\\worker.py\u001b[0m in \u001b[0;36minit\u001b[1;34m(address, num_cpus, num_gpus, resources, object_store_memory, local_mode, ignore_reinit_error, include_dashboard, dashboard_host, dashboard_port, job_config, configure_logging, logging_level, logging_format, log_to_driver, namespace, runtime_env, _enable_object_reconstruction, _redis_max_memory, _plasma_directory, _node_ip_address, _driver_object_store_memory, _memory, _redis_password, _temp_dir, _metrics_export_port, _system_config, _tracing_startup_hook, **kwargs)\u001b[0m\n\u001b[0;32m    854\u001b[0m             \u001b[1;32mreturn\u001b[0m\u001b[1;33m\u001b[0m\u001b[1;33m\u001b[0m\u001b[0m\n\u001b[0;32m    855\u001b[0m         \u001b[1;32melse\u001b[0m\u001b[1;33m:\u001b[0m\u001b[1;33m\u001b[0m\u001b[1;33m\u001b[0m\u001b[0m\n\u001b[1;32m--> 856\u001b[1;33m             raise RuntimeError(\"Maybe you called ray.init twice by accident? \"\n\u001b[0m\u001b[0;32m    857\u001b[0m                                \u001b[1;34m\"This error can be suppressed by passing in \"\u001b[0m\u001b[1;33m\u001b[0m\u001b[1;33m\u001b[0m\u001b[0m\n\u001b[0;32m    858\u001b[0m                                \u001b[1;34m\"'ignore_reinit_error=True' or by calling \"\u001b[0m\u001b[1;33m\u001b[0m\u001b[1;33m\u001b[0m\u001b[0m\n",
      "\u001b[1;31mRuntimeError\u001b[0m: Maybe you called ray.init twice by accident? This error can be suppressed by passing in 'ignore_reinit_error=True' or by calling 'ray.shutdown()' prior to 'ray.init()'."
     ]
    }
   ],
   "source": [
    "from src.models import train_model\n",
    "analysis = train_model.hypertune(iterations=1, config=config)"
   ]
  },
  {
   "cell_type": "code",
   "execution_count": null,
   "metadata": {},
   "outputs": [],
   "source": []
  },
  {
   "cell_type": "code",
   "execution_count": null,
   "metadata": {},
   "outputs": [],
   "source": []
  },
  {
   "cell_type": "code",
   "execution_count": null,
   "metadata": {},
   "outputs": [],
   "source": []
  },
  {
   "cell_type": "code",
   "execution_count": 47,
   "metadata": {},
   "outputs": [
    {
     "data": {
      "text/plain": [
       "((93182, 15), TensorShape([93182, 1]))"
      ]
     },
     "execution_count": 47,
     "metadata": {},
     "output_type": "execute_result"
    }
   ],
   "source": [
    "from tensorflow.keras.layers import Dense\n",
    "\n",
    "x = Dense(1)(X_train)\n",
    "X_train.shape, x.shape"
   ]
  },
  {
   "cell_type": "code",
   "execution_count": null,
   "metadata": {},
   "outputs": [
    {
     "data": {
      "text/plain": [
       "((93182, 93), TensorShape([93182, 30]))"
      ]
     },
     "execution_count": 401,
     "metadata": {},
     "output_type": "execute_result"
    }
   ],
   "source": [
    "x = Dense(30)(X_train)\n",
    "X_train.shape, x.shape"
   ]
  },
  {
   "cell_type": "markdown",
   "metadata": {},
   "source": [
    "<font size=\"6\">4.2 Model 1</font>"
   ]
  },
  {
   "cell_type": "markdown",
   "metadata": {},
   "source": [
    "<font size=\"6\">4.3 Model 2</font>"
   ]
  },
  {
   "cell_type": "markdown",
   "metadata": {},
   "source": []
  },
  {
   "cell_type": "markdown",
   "metadata": {},
   "source": [
    "<font size=\"10\">5. Evaluatie & implementatie</font>\n",
    "\n",
    "<font size=\"6\">5.1 Nauwkeurigheid, recall, matrix etc. </font>\n",
    "\n",
    "<font size=\"6\">4.2 Model 1</font>\n",
    "\n",
    "<font size=\"6\">5.3 Implementatie</font>"
   ]
  },
  {
   "cell_type": "code",
   "execution_count": null,
   "metadata": {},
   "outputs": [
    {
     "data": {
      "text/html": [
       "<div>\n",
       "<style scoped>\n",
       "    .dataframe tbody tr th:only-of-type {\n",
       "        vertical-align: middle;\n",
       "    }\n",
       "\n",
       "    .dataframe tbody tr th {\n",
       "        vertical-align: top;\n",
       "    }\n",
       "\n",
       "    .dataframe thead th {\n",
       "        text-align: right;\n",
       "    }\n",
       "</style>\n",
       "<table border=\"1\" class=\"dataframe\">\n",
       "  <thead>\n",
       "    <tr style=\"text-align: right;\">\n",
       "      <th></th>\n",
       "      <th>Factuurnummer</th>\n",
       "      <th>Global Dimension 2 Code</th>\n",
       "      <th>Contact Type</th>\n",
       "      <th>Payment Terms Code</th>\n",
       "      <th>Customer Posting Group</th>\n",
       "      <th>Global Dimension 1 Code</th>\n",
       "      <th>Factuurdatum</th>\n",
       "      <th>SBI Sector</th>\n",
       "      <th>elec. factureren</th>\n",
       "      <th>Maand</th>\n",
       "      <th>GenormalisserdBedrag</th>\n",
       "      <th>Verloopdatum</th>\n",
       "      <th>Sluitdatum</th>\n",
       "      <th>Betaaltermijn</th>\n",
       "      <th>DagenOpen</th>\n",
       "      <th>OptijdBetaald</th>\n",
       "    </tr>\n",
       "  </thead>\n",
       "  <tbody>\n",
       "    <tr>\n",
       "      <th>0</th>\n",
       "      <td>AA21-005812</td>\n",
       "      <td>AABZ</td>\n",
       "      <td>0</td>\n",
       "      <td>14 DAGEN</td>\n",
       "      <td>DEB</td>\n",
       "      <td>AA</td>\n",
       "      <td>2021-02-04</td>\n",
       "      <td>94</td>\n",
       "      <td>0</td>\n",
       "      <td>2</td>\n",
       "      <td>-0.321646</td>\n",
       "      <td>2021-02-18</td>\n",
       "      <td>2021-03-04</td>\n",
       "      <td>14</td>\n",
       "      <td>28</td>\n",
       "      <td>0</td>\n",
       "    </tr>\n",
       "    <tr>\n",
       "      <th>1</th>\n",
       "      <td>AA21-010236</td>\n",
       "      <td>AAGO</td>\n",
       "      <td>0</td>\n",
       "      <td>14 DAGEN</td>\n",
       "      <td>DEB</td>\n",
       "      <td>AA</td>\n",
       "      <td>2021-03-01</td>\n",
       "      <td>64</td>\n",
       "      <td>1</td>\n",
       "      <td>3</td>\n",
       "      <td>-0.321646</td>\n",
       "      <td>2021-03-15</td>\n",
       "      <td>2021-04-19</td>\n",
       "      <td>14</td>\n",
       "      <td>49</td>\n",
       "      <td>0</td>\n",
       "    </tr>\n",
       "    <tr>\n",
       "      <th>2</th>\n",
       "      <td>AA20-004861</td>\n",
       "      <td>AAMB</td>\n",
       "      <td>0</td>\n",
       "      <td>14 DAGEN</td>\n",
       "      <td>DEB</td>\n",
       "      <td>AA</td>\n",
       "      <td>2020-01-31</td>\n",
       "      <td>47</td>\n",
       "      <td>0</td>\n",
       "      <td>1</td>\n",
       "      <td>-0.321646</td>\n",
       "      <td>2020-02-14</td>\n",
       "      <td>2020-03-11</td>\n",
       "      <td>14</td>\n",
       "      <td>40</td>\n",
       "      <td>0</td>\n",
       "    </tr>\n",
       "    <tr>\n",
       "      <th>3</th>\n",
       "      <td>AA20-012411</td>\n",
       "      <td>AAGO</td>\n",
       "      <td>0</td>\n",
       "      <td>14 DAGEN</td>\n",
       "      <td>DEB</td>\n",
       "      <td>AA</td>\n",
       "      <td>2020-03-24</td>\n",
       "      <td>70</td>\n",
       "      <td>1</td>\n",
       "      <td>3</td>\n",
       "      <td>-0.321176</td>\n",
       "      <td>2020-04-07</td>\n",
       "      <td>2020-04-14</td>\n",
       "      <td>14</td>\n",
       "      <td>21</td>\n",
       "      <td>0</td>\n",
       "    </tr>\n",
       "    <tr>\n",
       "      <th>4</th>\n",
       "      <td>AA21-038194</td>\n",
       "      <td>AAOB</td>\n",
       "      <td>0</td>\n",
       "      <td>14 DAGEN</td>\n",
       "      <td>DEB</td>\n",
       "      <td>AA</td>\n",
       "      <td>2021-09-23</td>\n",
       "      <td>41</td>\n",
       "      <td>0</td>\n",
       "      <td>9</td>\n",
       "      <td>-0.321176</td>\n",
       "      <td>2021-10-07</td>\n",
       "      <td>2021-10-06</td>\n",
       "      <td>14</td>\n",
       "      <td>13</td>\n",
       "      <td>1</td>\n",
       "    </tr>\n",
       "    <tr>\n",
       "      <th>...</th>\n",
       "      <td>...</td>\n",
       "      <td>...</td>\n",
       "      <td>...</td>\n",
       "      <td>...</td>\n",
       "      <td>...</td>\n",
       "      <td>...</td>\n",
       "      <td>...</td>\n",
       "      <td>...</td>\n",
       "      <td>...</td>\n",
       "      <td>...</td>\n",
       "      <td>...</td>\n",
       "      <td>...</td>\n",
       "      <td>...</td>\n",
       "      <td>...</td>\n",
       "      <td>...</td>\n",
       "      <td>...</td>\n",
       "    </tr>\n",
       "    <tr>\n",
       "      <th>116473</th>\n",
       "      <td>AA19-000736</td>\n",
       "      <td>AABR</td>\n",
       "      <td>0</td>\n",
       "      <td>14 DAGEN</td>\n",
       "      <td>DEB</td>\n",
       "      <td>AA</td>\n",
       "      <td>2019-01-10</td>\n",
       "      <td>70</td>\n",
       "      <td>0</td>\n",
       "      <td>1</td>\n",
       "      <td>0.415883</td>\n",
       "      <td>2019-01-24</td>\n",
       "      <td>2019-02-06</td>\n",
       "      <td>14</td>\n",
       "      <td>27</td>\n",
       "      <td>0</td>\n",
       "    </tr>\n",
       "    <tr>\n",
       "      <th>116474</th>\n",
       "      <td>AA21-008340</td>\n",
       "      <td>AASL</td>\n",
       "      <td>0</td>\n",
       "      <td>14 DAGEN</td>\n",
       "      <td>DEB</td>\n",
       "      <td>AA</td>\n",
       "      <td>2021-02-25</td>\n",
       "      <td>46</td>\n",
       "      <td>1</td>\n",
       "      <td>2</td>\n",
       "      <td>0.415883</td>\n",
       "      <td>2021-03-11</td>\n",
       "      <td>2021-03-10</td>\n",
       "      <td>14</td>\n",
       "      <td>13</td>\n",
       "      <td>1</td>\n",
       "    </tr>\n",
       "    <tr>\n",
       "      <th>116475</th>\n",
       "      <td>AA21-046653</td>\n",
       "      <td>AABR</td>\n",
       "      <td>0</td>\n",
       "      <td>14 DAGEN</td>\n",
       "      <td>DEB</td>\n",
       "      <td>AA</td>\n",
       "      <td>2021-11-22</td>\n",
       "      <td>62</td>\n",
       "      <td>1</td>\n",
       "      <td>11</td>\n",
       "      <td>0.416117</td>\n",
       "      <td>2021-12-06</td>\n",
       "      <td>2021-11-25</td>\n",
       "      <td>14</td>\n",
       "      <td>3</td>\n",
       "      <td>1</td>\n",
       "    </tr>\n",
       "    <tr>\n",
       "      <th>116476</th>\n",
       "      <td>AA19-003699</td>\n",
       "      <td>AARS</td>\n",
       "      <td>0</td>\n",
       "      <td>14 DAGEN</td>\n",
       "      <td>DEB</td>\n",
       "      <td>AA</td>\n",
       "      <td>2019-01-28</td>\n",
       "      <td>46</td>\n",
       "      <td>1</td>\n",
       "      <td>1</td>\n",
       "      <td>0.416117</td>\n",
       "      <td>2019-02-11</td>\n",
       "      <td>2019-02-11</td>\n",
       "      <td>14</td>\n",
       "      <td>14</td>\n",
       "      <td>1</td>\n",
       "    </tr>\n",
       "    <tr>\n",
       "      <th>116477</th>\n",
       "      <td>AA20-044016</td>\n",
       "      <td>AASL</td>\n",
       "      <td>0</td>\n",
       "      <td>14 DAGEN</td>\n",
       "      <td>DEB</td>\n",
       "      <td>AA</td>\n",
       "      <td>2020-10-29</td>\n",
       "      <td>78</td>\n",
       "      <td>1</td>\n",
       "      <td>10</td>\n",
       "      <td>0.416117</td>\n",
       "      <td>2020-11-12</td>\n",
       "      <td>2020-11-30</td>\n",
       "      <td>14</td>\n",
       "      <td>32</td>\n",
       "      <td>0</td>\n",
       "    </tr>\n",
       "  </tbody>\n",
       "</table>\n",
       "<p>116478 rows × 16 columns</p>\n",
       "</div>"
      ],
      "text/plain": [
       "       Factuurnummer Global Dimension 2 Code  Contact Type Payment Terms Code  \\\n",
       "0        AA21-005812                    AABZ             0           14 DAGEN   \n",
       "1        AA21-010236                    AAGO             0           14 DAGEN   \n",
       "2        AA20-004861                    AAMB             0           14 DAGEN   \n",
       "3        AA20-012411                    AAGO             0           14 DAGEN   \n",
       "4        AA21-038194                    AAOB             0           14 DAGEN   \n",
       "...              ...                     ...           ...                ...   \n",
       "116473   AA19-000736                    AABR             0           14 DAGEN   \n",
       "116474   AA21-008340                    AASL             0           14 DAGEN   \n",
       "116475   AA21-046653                    AABR             0           14 DAGEN   \n",
       "116476   AA19-003699                    AARS             0           14 DAGEN   \n",
       "116477   AA20-044016                    AASL             0           14 DAGEN   \n",
       "\n",
       "       Customer Posting Group Global Dimension 1 Code Factuurdatum SBI Sector  \\\n",
       "0                         DEB                      AA   2021-02-04         94   \n",
       "1                         DEB                      AA   2021-03-01         64   \n",
       "2                         DEB                      AA   2020-01-31         47   \n",
       "3                         DEB                      AA   2020-03-24         70   \n",
       "4                         DEB                      AA   2021-09-23         41   \n",
       "...                       ...                     ...          ...        ...   \n",
       "116473                    DEB                      AA   2019-01-10         70   \n",
       "116474                    DEB                      AA   2021-02-25         46   \n",
       "116475                    DEB                      AA   2021-11-22         62   \n",
       "116476                    DEB                      AA   2019-01-28         46   \n",
       "116477                    DEB                      AA   2020-10-29         78   \n",
       "\n",
       "        elec. factureren  Maand  GenormalisserdBedrag Verloopdatum Sluitdatum  \\\n",
       "0                      0      2             -0.321646   2021-02-18 2021-03-04   \n",
       "1                      1      3             -0.321646   2021-03-15 2021-04-19   \n",
       "2                      0      1             -0.321646   2020-02-14 2020-03-11   \n",
       "3                      1      3             -0.321176   2020-04-07 2020-04-14   \n",
       "4                      0      9             -0.321176   2021-10-07 2021-10-06   \n",
       "...                  ...    ...                   ...          ...        ...   \n",
       "116473                 0      1              0.415883   2019-01-24 2019-02-06   \n",
       "116474                 1      2              0.415883   2021-03-11 2021-03-10   \n",
       "116475                 1     11              0.416117   2021-12-06 2021-11-25   \n",
       "116476                 1      1              0.416117   2019-02-11 2019-02-11   \n",
       "116477                 1     10              0.416117   2020-11-12 2020-11-30   \n",
       "\n",
       "        Betaaltermijn  DagenOpen  OptijdBetaald  \n",
       "0                  14         28              0  \n",
       "1                  14         49              0  \n",
       "2                  14         40              0  \n",
       "3                  14         21              0  \n",
       "4                  14         13              1  \n",
       "...               ...        ...            ...  \n",
       "116473             14         27              0  \n",
       "116474             14         13              1  \n",
       "116475             14          3              1  \n",
       "116476             14         14              1  \n",
       "116477             14         32              0  \n",
       "\n",
       "[116478 rows x 16 columns]"
      ]
     },
     "execution_count": 227,
     "metadata": {},
     "output_type": "execute_result"
    }
   ],
   "source": [
    "datafolder = Path(\"../data/raw\")\n",
    "df = pd.read_csv(datafolder / \"Data csv - 17-1-2022.csv\")\n",
    "\n",
    "\n",
    "df['Factuurdatum'] = pd.TimedeltaIndex(df['Factuurdatum'], unit='d') + dt.datetime(1899,12,30) \n",
    "df['Verloopdatum'] = pd.TimedeltaIndex(df['Verloopdatum'], unit='d')+ dt.datetime(1899,12,30) \n",
    "df['Sluitdatum'] = pd.TimedeltaIndex(df['Sluitdatum'], unit='d') + dt.datetime(1899,12,30) \n",
    "\n",
    "df"
   ]
  },
  {
   "cell_type": "code",
   "execution_count": null,
   "metadata": {},
   "outputs": [],
   "source": [
    "from tensorflow.keras.layers import Input\n",
    "from tensorflow.keras import Model\n",
    "from tensorflow.keras.layers import Dense\n",
    "input = Input(shape=X_train.shape[1:])\n",
    "x = Dense(30, activation='relu', name=\"my_secret_first_hidden_layer\")(input)\n",
    "output = Dense(1)(x)\n",
    "\n",
    "model = Model(inputs=[input], outputs=[output])\n",
    "model.summary()"
   ]
  }
 ],
 "metadata": {
  "accelerator": "GPU",
  "colab": {
   "collapsed_sections": [],
   "name": "timeseries.ipynb",
   "provenance": []
  },
  "interpreter": {
   "hash": "e065b36fdb17df341e669434cea6c7d8b130054286ae23d3d1f9341397bb5ce3"
  },
  "kernelspec": {
   "display_name": "Python 3.8.3 64-bit ('tensorflow': conda)",
   "language": "python",
   "name": "python3"
  },
  "language_info": {
   "codemirror_mode": {
    "name": "ipython",
    "version": 3
   },
   "file_extension": ".py",
   "mimetype": "text/x-python",
   "name": "python",
   "nbconvert_exporter": "python",
   "pygments_lexer": "ipython3",
   "version": "3.8.5"
  }
 },
 "nbformat": 4,
 "nbformat_minor": 0
}
